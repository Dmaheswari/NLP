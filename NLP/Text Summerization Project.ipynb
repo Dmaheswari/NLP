{
 "cells": [
  {
   "cell_type": "code",
   "execution_count": 22,
   "id": "22a8b18b",
   "metadata": {},
   "outputs": [
    {
     "name": "stdout",
     "output_type": "stream",
     "text": [
      "Defaulting to user installation because normal site-packages is not writeable\n",
      "Requirement already satisfied: newspaper3k in c:\\users\\dirisala.maheswari\\appdata\\roaming\\python\\python312\\site-packages (0.2.8)\n",
      "Requirement already satisfied: beautifulsoup4>=4.4.1 in c:\\users\\dirisala.maheswari\\appdata\\roaming\\python\\python312\\site-packages (from newspaper3k) (4.13.3)\n",
      "Requirement already satisfied: Pillow>=3.3.0 in c:\\users\\dirisala.maheswari\\appdata\\roaming\\python\\python312\\site-packages (from newspaper3k) (11.0.0)\n",
      "Requirement already satisfied: PyYAML>=3.11 in c:\\users\\dirisala.maheswari\\appdata\\roaming\\python\\python312\\site-packages (from newspaper3k) (6.0.2)\n",
      "Requirement already satisfied: cssselect>=0.9.2 in c:\\users\\dirisala.maheswari\\appdata\\roaming\\python\\python312\\site-packages (from newspaper3k) (1.3.0)\n",
      "Requirement already satisfied: lxml>=3.6.0 in c:\\users\\dirisala.maheswari\\appdata\\roaming\\python\\python312\\site-packages (from newspaper3k) (5.3.2)\n",
      "Requirement already satisfied: nltk>=3.2.1 in c:\\users\\dirisala.maheswari\\appdata\\roaming\\python\\python312\\site-packages (from newspaper3k) (3.9.1)\n",
      "Requirement already satisfied: requests>=2.10.0 in c:\\users\\dirisala.maheswari\\appdata\\roaming\\python\\python312\\site-packages (from newspaper3k) (2.32.3)\n",
      "Requirement already satisfied: feedparser>=5.2.1 in c:\\users\\dirisala.maheswari\\appdata\\roaming\\python\\python312\\site-packages (from newspaper3k) (6.0.11)\n",
      "Requirement already satisfied: tldextract>=2.0.1 in c:\\users\\dirisala.maheswari\\appdata\\roaming\\python\\python312\\site-packages (from newspaper3k) (5.3.0)\n",
      "Requirement already satisfied: feedfinder2>=0.0.4 in c:\\users\\dirisala.maheswari\\appdata\\roaming\\python\\python312\\site-packages (from newspaper3k) (0.0.4)\n",
      "Requirement already satisfied: jieba3k>=0.35.1 in c:\\users\\dirisala.maheswari\\appdata\\roaming\\python\\python312\\site-packages (from newspaper3k) (0.35.1)\n",
      "Requirement already satisfied: python-dateutil>=2.5.3 in c:\\users\\dirisala.maheswari\\appdata\\roaming\\python\\python312\\site-packages (from newspaper3k) (2.9.0.post0)\n",
      "Requirement already satisfied: tinysegmenter==0.3 in c:\\users\\dirisala.maheswari\\appdata\\roaming\\python\\python312\\site-packages (from newspaper3k) (0.3)\n",
      "Requirement already satisfied: soupsieve>1.2 in c:\\users\\dirisala.maheswari\\appdata\\roaming\\python\\python312\\site-packages (from beautifulsoup4>=4.4.1->newspaper3k) (2.6)\n",
      "Requirement already satisfied: typing-extensions>=4.0.0 in c:\\users\\dirisala.maheswari\\appdata\\roaming\\python\\python312\\site-packages (from beautifulsoup4>=4.4.1->newspaper3k) (4.12.2)\n",
      "Requirement already satisfied: six in c:\\users\\dirisala.maheswari\\appdata\\roaming\\python\\python312\\site-packages (from feedfinder2>=0.0.4->newspaper3k) (1.17.0)\n",
      "Requirement already satisfied: sgmllib3k in c:\\users\\dirisala.maheswari\\appdata\\roaming\\python\\python312\\site-packages (from feedparser>=5.2.1->newspaper3k) (1.0.0)\n",
      "Requirement already satisfied: click in c:\\users\\dirisala.maheswari\\appdata\\roaming\\python\\python312\\site-packages (from nltk>=3.2.1->newspaper3k) (8.1.8)\n",
      "Requirement already satisfied: joblib in c:\\users\\dirisala.maheswari\\appdata\\roaming\\python\\python312\\site-packages (from nltk>=3.2.1->newspaper3k) (1.5.0)\n",
      "Requirement already satisfied: regex>=2021.8.3 in c:\\users\\dirisala.maheswari\\appdata\\roaming\\python\\python312\\site-packages (from nltk>=3.2.1->newspaper3k) (2024.11.6)\n",
      "Requirement already satisfied: tqdm in c:\\users\\dirisala.maheswari\\appdata\\roaming\\python\\python312\\site-packages (from nltk>=3.2.1->newspaper3k) (4.67.1)\n",
      "Requirement already satisfied: charset-normalizer<4,>=2 in c:\\users\\dirisala.maheswari\\appdata\\roaming\\python\\python312\\site-packages (from requests>=2.10.0->newspaper3k) (3.3.2)\n",
      "Requirement already satisfied: idna<4,>=2.5 in c:\\users\\dirisala.maheswari\\appdata\\roaming\\python\\python312\\site-packages (from requests>=2.10.0->newspaper3k) (3.10)\n",
      "Requirement already satisfied: urllib3<3,>=1.21.1 in c:\\users\\dirisala.maheswari\\appdata\\roaming\\python\\python312\\site-packages (from requests>=2.10.0->newspaper3k) (2.2.3)\n",
      "Requirement already satisfied: certifi>=2017.4.17 in c:\\users\\dirisala.maheswari\\appdata\\roaming\\python\\python312\\site-packages (from requests>=2.10.0->newspaper3k) (2024.8.30)\n",
      "Requirement already satisfied: requests-file>=1.4 in c:\\users\\dirisala.maheswari\\appdata\\roaming\\python\\python312\\site-packages (from tldextract>=2.0.1->newspaper3k) (2.1.0)\n",
      "Requirement already satisfied: filelock>=3.0.8 in c:\\users\\dirisala.maheswari\\appdata\\roaming\\python\\python312\\site-packages (from tldextract>=2.0.1->newspaper3k) (3.16.1)\n",
      "Requirement already satisfied: colorama in c:\\users\\dirisala.maheswari\\appdata\\roaming\\python\\python312\\site-packages (from click->nltk>=3.2.1->newspaper3k) (0.4.6)\n",
      "Note: you may need to restart the kernel to use updated packages.\n"
     ]
    },
    {
     "name": "stderr",
     "output_type": "stream",
     "text": [
      "\n",
      "[notice] A new release of pip is available: 23.2.1 -> 25.1.1\n",
      "[notice] To update, run: python.exe -m pip install --upgrade pip\n"
     ]
    },
    {
     "name": "stdout",
     "output_type": "stream",
     "text": [
      "Defaulting to user installation because normal site-packages is not writeable\n",
      "Requirement already satisfied: lxml_html_clean in c:\\users\\dirisala.maheswari\\appdata\\roaming\\python\\python312\\site-packages (0.4.2)\n",
      "Requirement already satisfied: lxml in c:\\users\\dirisala.maheswari\\appdata\\roaming\\python\\python312\\site-packages (from lxml_html_clean) (5.3.2)\n",
      "Note: you may need to restart the kernel to use updated packages.\n"
     ]
    },
    {
     "name": "stderr",
     "output_type": "stream",
     "text": [
      "\n",
      "[notice] A new release of pip is available: 23.2.1 -> 25.1.1\n",
      "[notice] To update, run: python.exe -m pip install --upgrade pip\n"
     ]
    },
    {
     "name": "stdout",
     "output_type": "stream",
     "text": [
      "Defaulting to user installation because normal site-packages is not writeable\n",
      "Requirement already satisfied: transformers in c:\\users\\dirisala.maheswari\\appdata\\roaming\\python\\python312\\site-packages (4.52.3)\n",
      "Requirement already satisfied: torch in c:\\users\\dirisala.maheswari\\appdata\\roaming\\python\\python312\\site-packages (2.7.0)\n",
      "Requirement already satisfied: filelock in c:\\users\\dirisala.maheswari\\appdata\\roaming\\python\\python312\\site-packages (from transformers) (3.16.1)\n",
      "Requirement already satisfied: huggingface-hub<1.0,>=0.30.0 in c:\\users\\dirisala.maheswari\\appdata\\roaming\\python\\python312\\site-packages (from transformers) (0.32.0)\n",
      "Requirement already satisfied: numpy>=1.17 in c:\\users\\dirisala.maheswari\\appdata\\roaming\\python\\python312\\site-packages (from transformers) (2.2.4)\n",
      "Requirement already satisfied: packaging>=20.0 in c:\\users\\dirisala.maheswari\\appdata\\roaming\\python\\python312\\site-packages (from transformers) (24.1)\n",
      "Requirement already satisfied: pyyaml>=5.1 in c:\\users\\dirisala.maheswari\\appdata\\roaming\\python\\python312\\site-packages (from transformers) (6.0.2)\n",
      "Requirement already satisfied: regex!=2019.12.17 in c:\\users\\dirisala.maheswari\\appdata\\roaming\\python\\python312\\site-packages (from transformers) (2024.11.6)\n",
      "Requirement already satisfied: requests in c:\\users\\dirisala.maheswari\\appdata\\roaming\\python\\python312\\site-packages (from transformers) (2.32.3)\n",
      "Requirement already satisfied: tokenizers<0.22,>=0.21 in c:\\users\\dirisala.maheswari\\appdata\\roaming\\python\\python312\\site-packages (from transformers) (0.21.1)\n",
      "Requirement already satisfied: safetensors>=0.4.3 in c:\\users\\dirisala.maheswari\\appdata\\roaming\\python\\python312\\site-packages (from transformers) (0.5.3)\n",
      "Requirement already satisfied: tqdm>=4.27 in c:\\users\\dirisala.maheswari\\appdata\\roaming\\python\\python312\\site-packages (from transformers) (4.67.1)\n",
      "Requirement already satisfied: typing-extensions>=4.10.0 in c:\\users\\dirisala.maheswari\\appdata\\roaming\\python\\python312\\site-packages (from torch) (4.12.2)\n",
      "Requirement already satisfied: sympy>=1.13.3 in c:\\users\\dirisala.maheswari\\appdata\\roaming\\python\\python312\\site-packages (from torch) (1.14.0)\n",
      "Requirement already satisfied: networkx in c:\\users\\dirisala.maheswari\\appdata\\roaming\\python\\python312\\site-packages (from torch) (3.4.2)\n",
      "Requirement already satisfied: jinja2 in c:\\users\\dirisala.maheswari\\appdata\\roaming\\python\\python312\\site-packages (from torch) (3.1.5)\n",
      "Requirement already satisfied: fsspec in c:\\users\\dirisala.maheswari\\appdata\\roaming\\python\\python312\\site-packages (from torch) (2025.5.1)\n",
      "Requirement already satisfied: setuptools in c:\\users\\dirisala.maheswari\\appdata\\roaming\\python\\python312\\site-packages (from torch) (78.1.0)\n",
      "Requirement already satisfied: mpmath<1.4,>=1.1.0 in c:\\users\\dirisala.maheswari\\appdata\\roaming\\python\\python312\\site-packages (from sympy>=1.13.3->torch) (1.3.0)\n",
      "Requirement already satisfied: colorama in c:\\users\\dirisala.maheswari\\appdata\\roaming\\python\\python312\\site-packages (from tqdm>=4.27->transformers) (0.4.6)\n",
      "Requirement already satisfied: MarkupSafe>=2.0 in c:\\users\\dirisala.maheswari\\appdata\\roaming\\python\\python312\\site-packages (from jinja2->torch) (3.0.2)\n",
      "Requirement already satisfied: charset-normalizer<4,>=2 in c:\\users\\dirisala.maheswari\\appdata\\roaming\\python\\python312\\site-packages (from requests->transformers) (3.3.2)\n",
      "Requirement already satisfied: idna<4,>=2.5 in c:\\users\\dirisala.maheswari\\appdata\\roaming\\python\\python312\\site-packages (from requests->transformers) (3.10)\n",
      "Requirement already satisfied: urllib3<3,>=1.21.1 in c:\\users\\dirisala.maheswari\\appdata\\roaming\\python\\python312\\site-packages (from requests->transformers) (2.2.3)\n",
      "Requirement already satisfied: certifi>=2017.4.17 in c:\\users\\dirisala.maheswari\\appdata\\roaming\\python\\python312\\site-packages (from requests->transformers) (2024.8.30)\n",
      "Note: you may need to restart the kernel to use updated packages.\n"
     ]
    },
    {
     "name": "stderr",
     "output_type": "stream",
     "text": [
      "\n",
      "[notice] A new release of pip is available: 23.2.1 -> 25.1.1\n",
      "[notice] To update, run: python.exe -m pip install --upgrade pip\n"
     ]
    }
   ],
   "source": [
    "%pip install newspaper3k\n",
    "%pip install lxml_html_clean\n",
    "%pip install transformers torch\n",
    "\n",
    "# Step 1: Install required libraries\n",
    "# You only need to do this once in your environment.\n",
    "# !pip install transformers newspaper3k torch\n",
    "\n",
    "# Step 2: Import necessary modules\n",
    "from newspaper import Article  # Used to extract full text from news articles\n",
    "from transformers import pipeline  # Hugging Face pipeline for NLP tasks\n"
   ]
  },
  {
   "cell_type": "code",
   "execution_count": 23,
   "id": "c480aef0",
   "metadata": {},
   "outputs": [],
   "source": [
    "# Step 3: Provide the article URL\n",
    "url = \"https://www.indiatoday.in/technology/news/story/cloudflare-ceo-warns-ai-will-make-it-very-hard-to-be-a-content-creator-says-people-might-not-see-their-work-2729928-2025-05-24\"\n",
    "\n",
    "# Step 4: Download and parse the article\n",
    "article = Article(url)   # Create an Article object using the URL\n",
    "article.download()       # Download the article HTML\n",
    "article.parse()          # Parse the HTML to extract the article text\n",
    "\n",
    "# Step 5: Extract the article text\n",
    "text = article.text  # Extracts the clean text content of the article\n"
   ]
  },
  {
   "cell_type": "code",
   "execution_count": 24,
   "id": "f06caba1",
   "metadata": {},
   "outputs": [
    {
     "name": "stderr",
     "output_type": "stream",
     "text": [
      "Device set to use cpu\n"
     ]
    }
   ],
   "source": [
    "# Step 6: Initialize the summarization pipeline\n",
    "summarizer = pipeline(\"summarization\", model=\"facebook/bart-large-cnn\")\n",
    "# This loads a pre-trained BART model fine-tuned on CNN/DailyMail dataset for summarization\n"
   ]
  },
  {
   "cell_type": "code",
   "execution_count": 25,
   "id": "36bff227",
   "metadata": {},
   "outputs": [
    {
     "name": "stdout",
     "output_type": "stream",
     "text": [
      "🔹 Summary:\n",
      "\n",
      "Cloudflare CEO Matthew Prince says AI is changing the way people use the internet. He warns that as more users turn to AI for quick answers, fewer people are visiting the original websites where that information comes from. This could have serious financial consequences for creators who rely on advertising and subscriptions.\n"
     ]
    }
   ],
   "source": [
    "# Step 7: Generate the summary\n",
    "summary = summarizer(text, max_length=130, min_length=30, do_sample=False)\n",
    "# max_length: maximum tokens in summary\n",
    "# min_length: minimum tokens in summary\n",
    "# do_sample=False: makes summarization deterministic (same output every time)\n",
    "\n",
    "# Step 8: Print the summary\n",
    "print(\"🔹 Summary:\\n\")\n",
    "print(summary[0]['summary_text'])  # The output is a list of dicts, so we access the summary with [0]['summary_text']\n"
   ]
  },
  {
   "cell_type": "markdown",
   "id": "7268b28f",
   "metadata": {},
   "source": [
    "### Using PDF"
   ]
  },
  {
   "cell_type": "code",
   "execution_count": 26,
   "id": "bfe900d6",
   "metadata": {},
   "outputs": [
    {
     "name": "stdout",
     "output_type": "stream",
     "text": [
      "Defaulting to user installation because normal site-packages is not writeable\n",
      "Requirement already satisfied: PyMuPDF in c:\\users\\dirisala.maheswari\\appdata\\roaming\\python\\python312\\site-packages (1.26.0)\n",
      "Note: you may need to restart the kernel to use updated packages.\n"
     ]
    },
    {
     "name": "stderr",
     "output_type": "stream",
     "text": [
      "\n",
      "[notice] A new release of pip is available: 23.2.1 -> 25.1.1\n",
      "[notice] To update, run: python.exe -m pip install --upgrade pip\n"
     ]
    }
   ],
   "source": [
    "%pip install PyMuPDF"
   ]
  },
  {
   "cell_type": "code",
   "execution_count": 27,
   "id": "8633ce22",
   "metadata": {},
   "outputs": [],
   "source": [
    "import fitz  # PyMuPDF: to extract text from PDF\n",
    "from transformers import pipeline  # Hugging Face summarization pipeline"
   ]
  },
  {
   "cell_type": "code",
   "execution_count": 28,
   "id": "3057fdc8",
   "metadata": {},
   "outputs": [],
   "source": [
    "# Step 1: Load PDF file\n",
    "pdf_path = 'ppt.pdf'  # Replace with your PDF path\n",
    "doc = fitz.open(pdf_path)"
   ]
  },
  {
   "cell_type": "code",
   "execution_count": 29,
   "id": "4fb77ee7",
   "metadata": {},
   "outputs": [],
   "source": [
    "# Step 2: Extract text from all pages\n",
    "text = \"\"\n",
    "for page in doc:\n",
    "    text += page.get_text()\n",
    "\n",
    "doc.close()"
   ]
  },
  {
   "cell_type": "code",
   "execution_count": 30,
   "id": "b561528e",
   "metadata": {},
   "outputs": [
    {
     "name": "stderr",
     "output_type": "stream",
     "text": [
      "Device set to use cpu\n"
     ]
    }
   ],
   "source": [
    "# Step 3: Initialize summarizer\n",
    "summarizer = pipeline(\"summarization\", model=\"facebook/bart-large-cnn\")"
   ]
  },
  {
   "cell_type": "code",
   "execution_count": 31,
   "id": "9e0d9391",
   "metadata": {},
   "outputs": [],
   "source": [
    "# Step 4: Split long text (if it's more than 1024 tokens)\n",
    "# Hugging Face models have a max token limit; we summarize in chunks\n",
    "max_chunk = 1000\n",
    "chunks = [text[i:i+max_chunk] for i in range(0, len(text), max_chunk)]"
   ]
  },
  {
   "cell_type": "code",
   "execution_count": 32,
   "id": "7135fadd",
   "metadata": {},
   "outputs": [],
   "source": [
    "# Step 5: Generate summaries for each chunk\n",
    "summary = \"\"\n",
    "for chunk in chunks:\n",
    "    result = summarizer(chunk, max_length=130, min_length=30, do_sample=False)\n",
    "    summary += result[0]['summary_text'] + \"\\n\""
   ]
  },
  {
   "cell_type": "code",
   "execution_count": 33,
   "id": "b3c20e88",
   "metadata": {},
   "outputs": [
    {
     "name": "stdout",
     "output_type": "stream",
     "text": [
      "🔹 PDF Summary:\n",
      "\n",
      "The project analyzes SpaceX launch data to determine factors influencing successful landings. It applies Machine Learning models to predict whether a rocket will land successfully.\n",
      "The goal is to support SpaceX's mission to reduce launch costs via reusability. Data collection methodology: exploratory data analysis (EDA) using visualization and SQL. Perform predictive analysis using classification models: how to build, tune, evaluate classification models.\n",
      "Open-source datasets were used from IBM Cloud Object Storage. Data files were accessed using Python’s fetch API in a JupyterLite notebook environment.CSV files were downloaded and read using Pandas for preprocessing.\n",
      "The tool is used to scrape HTML content from the web. It can also be used to create charts and graphs. The data is saved as a .csv file for analysis and modeling.\n",
      "GitHub URL: Dmaheswari (Dirisala Maheswara) with Data Visualization. GitHub URL:. Dmaheeshwari, Dirisala.com. GitHub.io.\n",
      "Build an Interactive Map with Folium with Plotly Dash. Plots/Graphs and Interactions Added: Pie Chart to show launch success rates by site. Scatter Plot to display payload vs. success correlation. Dropdown menu to select different launch sites.\n",
      "Evaluated models using Accuracy, F1-Score, and Jaccard Score. Tuned hyperparameters using GridSearchCV for better performance. Chose the best model based on highest evaluation metrics.\n",
      "Show a bar chart for the success rate of each orbit type. Show a scatter point of flight number vs. orbit type. Find the names of the unique launch sites.\n",
      " Calculate the average payload mass carried by booster version F9 v1.1. Find the dates of the first successful landing outcome on ground pad. List the names of boosters which have successfully landed on drone ship.\n",
      "List the failed landing_outcomes in drone ship, their booster versions, and launch site names for in year 2015. Rank the count of landing outcomes between the date 2010-06-04 and 2017-03-20.\n",
      "Show screenshots of Payload vs. Launch Outcome scatte. Show screenshot of the piechart for the launch site with highest launch success. Show the screenshot of launch success count for all sites.\n",
      "The screenshot includes the built model accuracy for all                 built classification models, in a bar chart. Find which model has the highest                 classification accuracy. Show the confusion matrix of the best performing model with an explanation.\n",
      "\n"
     ]
    }
   ],
   "source": [
    "# Step 6: Print the full summary\n",
    "print(\"🔹 PDF Summary:\\n\")\n",
    "print(summary)"
   ]
  }
 ],
 "metadata": {
  "kernelspec": {
   "display_name": "Python 3",
   "language": "python",
   "name": "python3"
  },
  "language_info": {
   "codemirror_mode": {
    "name": "ipython",
    "version": 3
   },
   "file_extension": ".py",
   "mimetype": "text/x-python",
   "name": "python",
   "nbconvert_exporter": "python",
   "pygments_lexer": "ipython3",
   "version": "3.12.0"
  }
 },
 "nbformat": 4,
 "nbformat_minor": 5
}
