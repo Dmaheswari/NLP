{
 "cells": [
  {
   "cell_type": "markdown",
   "id": "1a97bd50",
   "metadata": {},
   "source": [
    "### ✅ Project Goal\n",
    "Build a chatbot that:\n",
    "\n",
    "Understands natural language queries\n",
    "\n",
    "Remembers previous user inputs (context)\n",
    "\n",
    "Responds accordingly\n",
    "\n"
   ]
  },
  {
   "cell_type": "code",
   "execution_count": 1,
   "id": "81498ba2",
   "metadata": {},
   "outputs": [
    {
     "name": "stdout",
     "output_type": "stream",
     "text": [
      "Defaulting to user installation because normal site-packages is not writeable\n",
      "Requirement already satisfied: spacy in c:\\users\\dirisala.maheswari\\appdata\\roaming\\python\\python312\\site-packages (3.8.4)\n",
      "Requirement already satisfied: spacy-legacy<3.1.0,>=3.0.11 in c:\\users\\dirisala.maheswari\\appdata\\roaming\\python\\python312\\site-packages (from spacy) (3.0.12)\n",
      "Requirement already satisfied: spacy-loggers<2.0.0,>=1.0.0 in c:\\users\\dirisala.maheswari\\appdata\\roaming\\python\\python312\\site-packages (from spacy) (1.0.5)\n",
      "Requirement already satisfied: murmurhash<1.1.0,>=0.28.0 in c:\\users\\dirisala.maheswari\\appdata\\roaming\\python\\python312\\site-packages (from spacy) (1.0.12)\n",
      "Requirement already satisfied: cymem<2.1.0,>=2.0.2 in c:\\users\\dirisala.maheswari\\appdata\\roaming\\python\\python312\\site-packages (from spacy) (2.0.11)\n",
      "Requirement already satisfied: preshed<3.1.0,>=3.0.2 in c:\\users\\dirisala.maheswari\\appdata\\roaming\\python\\python312\\site-packages (from spacy) (3.0.9)\n",
      "Requirement already satisfied: thinc<8.4.0,>=8.3.4 in c:\\users\\dirisala.maheswari\\appdata\\roaming\\python\\python312\\site-packages (from spacy) (8.3.6)\n",
      "Requirement already satisfied: wasabi<1.2.0,>=0.9.1 in c:\\users\\dirisala.maheswari\\appdata\\roaming\\python\\python312\\site-packages (from spacy) (1.1.3)\n",
      "Requirement already satisfied: srsly<3.0.0,>=2.4.3 in c:\\users\\dirisala.maheswari\\appdata\\roaming\\python\\python312\\site-packages (from spacy) (2.5.1)\n",
      "Requirement already satisfied: catalogue<2.1.0,>=2.0.6 in c:\\users\\dirisala.maheswari\\appdata\\roaming\\python\\python312\\site-packages (from spacy) (2.0.10)\n",
      "Requirement already satisfied: weasel<0.5.0,>=0.1.0 in c:\\users\\dirisala.maheswari\\appdata\\roaming\\python\\python312\\site-packages (from spacy) (0.4.1)\n",
      "Requirement already satisfied: typer<1.0.0,>=0.3.0 in c:\\users\\dirisala.maheswari\\appdata\\roaming\\python\\python312\\site-packages (from spacy) (0.15.4)\n",
      "Requirement already satisfied: tqdm<5.0.0,>=4.38.0 in c:\\users\\dirisala.maheswari\\appdata\\roaming\\python\\python312\\site-packages (from spacy) (4.67.1)\n",
      "Requirement already satisfied: numpy>=1.19.0 in c:\\users\\dirisala.maheswari\\appdata\\roaming\\python\\python312\\site-packages (from spacy) (2.2.4)\n",
      "Requirement already satisfied: requests<3.0.0,>=2.13.0 in c:\\users\\dirisala.maheswari\\appdata\\roaming\\python\\python312\\site-packages (from spacy) (2.32.3)\n",
      "Requirement already satisfied: pydantic!=1.8,!=1.8.1,<3.0.0,>=1.7.4 in c:\\users\\dirisala.maheswari\\appdata\\roaming\\python\\python312\\site-packages (from spacy) (2.10.3)\n",
      "Requirement already satisfied: jinja2 in c:\\users\\dirisala.maheswari\\appdata\\roaming\\python\\python312\\site-packages (from spacy) (3.1.5)\n",
      "Requirement already satisfied: setuptools in c:\\users\\dirisala.maheswari\\appdata\\roaming\\python\\python312\\site-packages (from spacy) (78.1.0)\n",
      "Requirement already satisfied: packaging>=20.0 in c:\\users\\dirisala.maheswari\\appdata\\roaming\\python\\python312\\site-packages (from spacy) (24.1)\n",
      "Requirement already satisfied: langcodes<4.0.0,>=3.2.0 in c:\\users\\dirisala.maheswari\\appdata\\roaming\\python\\python312\\site-packages (from spacy) (3.5.0)\n",
      "Requirement already satisfied: language-data>=1.2 in c:\\users\\dirisala.maheswari\\appdata\\roaming\\python\\python312\\site-packages (from langcodes<4.0.0,>=3.2.0->spacy) (1.3.0)\n",
      "Requirement already satisfied: annotated-types>=0.6.0 in c:\\users\\dirisala.maheswari\\appdata\\roaming\\python\\python312\\site-packages (from pydantic!=1.8,!=1.8.1,<3.0.0,>=1.7.4->spacy) (0.7.0)\n",
      "Requirement already satisfied: pydantic-core==2.27.1 in c:\\users\\dirisala.maheswari\\appdata\\roaming\\python\\python312\\site-packages (from pydantic!=1.8,!=1.8.1,<3.0.0,>=1.7.4->spacy) (2.27.1)\n",
      "Requirement already satisfied: typing-extensions>=4.12.2 in c:\\users\\dirisala.maheswari\\appdata\\roaming\\python\\python312\\site-packages (from pydantic!=1.8,!=1.8.1,<3.0.0,>=1.7.4->spacy) (4.12.2)\n",
      "Requirement already satisfied: charset-normalizer<4,>=2 in c:\\users\\dirisala.maheswari\\appdata\\roaming\\python\\python312\\site-packages (from requests<3.0.0,>=2.13.0->spacy) (3.3.2)\n",
      "Requirement already satisfied: idna<4,>=2.5 in c:\\users\\dirisala.maheswari\\appdata\\roaming\\python\\python312\\site-packages (from requests<3.0.0,>=2.13.0->spacy) (3.10)\n",
      "Requirement already satisfied: urllib3<3,>=1.21.1 in c:\\users\\dirisala.maheswari\\appdata\\roaming\\python\\python312\\site-packages (from requests<3.0.0,>=2.13.0->spacy) (2.2.3)\n",
      "Requirement already satisfied: certifi>=2017.4.17 in c:\\users\\dirisala.maheswari\\appdata\\roaming\\python\\python312\\site-packages (from requests<3.0.0,>=2.13.0->spacy) (2024.8.30)\n",
      "Requirement already satisfied: blis<1.4.0,>=1.3.0 in c:\\users\\dirisala.maheswari\\appdata\\roaming\\python\\python312\\site-packages (from thinc<8.4.0,>=8.3.4->spacy) (1.3.0)\n",
      "Requirement already satisfied: confection<1.0.0,>=0.0.1 in c:\\users\\dirisala.maheswari\\appdata\\roaming\\python\\python312\\site-packages (from thinc<8.4.0,>=8.3.4->spacy) (0.1.5)\n",
      "Requirement already satisfied: colorama in c:\\users\\dirisala.maheswari\\appdata\\roaming\\python\\python312\\site-packages (from tqdm<5.0.0,>=4.38.0->spacy) (0.4.6)\n",
      "Requirement already satisfied: click<8.2,>=8.0.0 in c:\\users\\dirisala.maheswari\\appdata\\roaming\\python\\python312\\site-packages (from typer<1.0.0,>=0.3.0->spacy) (8.1.8)\n",
      "Requirement already satisfied: shellingham>=1.3.0 in c:\\users\\dirisala.maheswari\\appdata\\roaming\\python\\python312\\site-packages (from typer<1.0.0,>=0.3.0->spacy) (1.5.4)\n",
      "Requirement already satisfied: rich>=10.11.0 in c:\\users\\dirisala.maheswari\\appdata\\roaming\\python\\python312\\site-packages (from typer<1.0.0,>=0.3.0->spacy) (14.0.0)\n",
      "Requirement already satisfied: cloudpathlib<1.0.0,>=0.7.0 in c:\\users\\dirisala.maheswari\\appdata\\roaming\\python\\python312\\site-packages (from weasel<0.5.0,>=0.1.0->spacy) (0.21.1)\n",
      "Requirement already satisfied: smart-open<8.0.0,>=5.2.1 in c:\\users\\dirisala.maheswari\\appdata\\roaming\\python\\python312\\site-packages (from weasel<0.5.0,>=0.1.0->spacy) (7.1.0)\n",
      "Requirement already satisfied: MarkupSafe>=2.0 in c:\\users\\dirisala.maheswari\\appdata\\roaming\\python\\python312\\site-packages (from jinja2->spacy) (3.0.2)\n",
      "Requirement already satisfied: marisa-trie>=1.1.0 in c:\\users\\dirisala.maheswari\\appdata\\roaming\\python\\python312\\site-packages (from language-data>=1.2->langcodes<4.0.0,>=3.2.0->spacy) (1.2.1)\n",
      "Requirement already satisfied: markdown-it-py>=2.2.0 in c:\\users\\dirisala.maheswari\\appdata\\roaming\\python\\python312\\site-packages (from rich>=10.11.0->typer<1.0.0,>=0.3.0->spacy) (3.0.0)\n",
      "Requirement already satisfied: pygments<3.0.0,>=2.13.0 in c:\\users\\dirisala.maheswari\\appdata\\roaming\\python\\python312\\site-packages (from rich>=10.11.0->typer<1.0.0,>=0.3.0->spacy) (2.19.1)\n",
      "Requirement already satisfied: wrapt in c:\\users\\dirisala.maheswari\\appdata\\roaming\\python\\python312\\site-packages (from smart-open<8.0.0,>=5.2.1->weasel<0.5.0,>=0.1.0->spacy) (1.17.2)\n",
      "Requirement already satisfied: mdurl~=0.1 in c:\\users\\dirisala.maheswari\\appdata\\roaming\\python\\python312\\site-packages (from markdown-it-py>=2.2.0->rich>=10.11.0->typer<1.0.0,>=0.3.0->spacy) (0.1.2)\n",
      "Note: you may need to restart the kernel to use updated packages.\n"
     ]
    },
    {
     "name": "stderr",
     "output_type": "stream",
     "text": [
      "\n",
      "[notice] A new release of pip is available: 23.2.1 -> 25.1.1\n",
      "[notice] To update, run: python.exe -m pip install --upgrade pip\n"
     ]
    },
    {
     "name": "stdout",
     "output_type": "stream",
     "text": [
      "Defaulting to user installation because normal site-packages is not writeable\n",
      "Collecting en-core-web-sm==3.8.0\n",
      "  Downloading https://github.com/explosion/spacy-models/releases/download/en_core_web_sm-3.8.0/en_core_web_sm-3.8.0-py3-none-any.whl (12.8 MB)\n",
      "     ---------------------------------------- 0.0/12.8 MB ? eta -:--:--\n",
      "     ---------------------------------------- 0.0/12.8 MB ? eta -:--:--\n",
      "     --------------------------------------- 0.1/12.8 MB 656.4 kB/s eta 0:00:20\n",
      "     - -------------------------------------- 0.6/12.8 MB 4.5 MB/s eta 0:00:03\n",
      "     --- ------------------------------------ 1.3/12.8 MB 6.7 MB/s eta 0:00:02\n",
      "     ----- ---------------------------------- 1.8/12.8 MB 7.8 MB/s eta 0:00:02\n",
      "     ------- -------------------------------- 2.5/12.8 MB 8.4 MB/s eta 0:00:02\n",
      "     ----------- ---------------------------- 3.8/12.8 MB 11.2 MB/s eta 0:00:01\n",
      "     -------------- ------------------------- 4.6/12.8 MB 11.8 MB/s eta 0:00:01\n",
      "     ---------------- ----------------------- 5.4/12.8 MB 11.8 MB/s eta 0:00:01\n",
      "     ------------------ --------------------- 6.0/12.8 MB 12.4 MB/s eta 0:00:01\n",
      "     --------------------- ------------------ 6.7/12.8 MB 12.3 MB/s eta 0:00:01\n",
      "     ---------------------- ----------------- 7.3/12.8 MB 12.6 MB/s eta 0:00:01\n",
      "     ------------------------ --------------- 8.0/12.8 MB 12.7 MB/s eta 0:00:01\n",
      "     -------------------------- ------------- 8.4/12.8 MB 12.9 MB/s eta 0:00:01\n",
      "     ---------------------------- ----------- 9.1/12.8 MB 12.7 MB/s eta 0:00:01\n",
      "     ------------------------------ -------- 10.1/12.8 MB 12.4 MB/s eta 0:00:01\n",
      "     --------------------------------- ----- 11.0/12.8 MB 14.6 MB/s eta 0:00:01\n",
      "     ----------------------------------- --- 11.7/12.8 MB 14.9 MB/s eta 0:00:01\n",
      "     --------------------------------------  12.6/12.8 MB 14.9 MB/s eta 0:00:01\n",
      "     --------------------------------------  12.8/12.8 MB 14.9 MB/s eta 0:00:01\n",
      "     --------------------------------------  12.8/12.8 MB 14.9 MB/s eta 0:00:01\n",
      "     --------------------------------------  12.8/12.8 MB 14.9 MB/s eta 0:00:01\n",
      "     --------------------------------------- 12.8/12.8 MB 11.7 MB/s eta 0:00:00\n",
      "\u001b[38;5;2m✔ Download and installation successful\u001b[0m\n",
      "You can now load the package via spacy.load('en_core_web_sm')\n"
     ]
    },
    {
     "name": "stderr",
     "output_type": "stream",
     "text": [
      "\n",
      "[notice] A new release of pip is available: 23.2.1 -> 25.1.1\n",
      "[notice] To update, run: python.exe -m pip install --upgrade pip\n"
     ]
    }
   ],
   "source": [
    "%pip install spacy\n",
    "!python -m spacy download en_core_web_sm\n"
   ]
  },
  {
   "cell_type": "markdown",
   "id": "ed3d008f",
   "metadata": {},
   "source": [
    "### Step 1: Load spaCy and set up a context dictionary\n"
   ]
  },
  {
   "cell_type": "code",
   "execution_count": 2,
   "id": "759ae354",
   "metadata": {},
   "outputs": [],
   "source": [
    "import spacy\n",
    "\n",
    "# Load small English model\n",
    "nlp = spacy.load(\"en_core_web_sm\")\n",
    "\n",
    "# Memory for storing past user inputs\n",
    "context_memory = []"
   ]
  },
  {
   "cell_type": "markdown",
   "id": "5a056c62",
   "metadata": {},
   "source": [
    "### Step 2: Define chatbot logic"
   ]
  },
  {
   "cell_type": "code",
   "execution_count": 3,
   "id": "574b47ad",
   "metadata": {},
   "outputs": [],
   "source": [
    "def chatbot_response(user_input, memory):\n",
    "    memory.append(user_input)  # store input in memory\n",
    "    doc = nlp(user_input.lower())\n",
    "\n",
    "    if \"name\" in user_input.lower():\n",
    "        return \"I'm ChatBot, your virtual assistant.\"\n",
    "    elif \"how are you\" in user_input.lower():\n",
    "        return \"I'm doing great! Thanks for asking.\"\n",
    "    elif \"you remember\" in user_input.lower():\n",
    "        if len(memory) > 1:\n",
    "            return f\"You said earlier: '{memory[-2]}'\"\n",
    "        else:\n",
    "            return \"I don't have much memory yet.\"\n",
    "    elif \"bye\" in user_input.lower():\n",
    "        return \"Goodbye! Have a great day!\"\n",
    "    else:\n",
    "        return \"Interesting! Tell me more.\"\n"
   ]
  },
  {
   "cell_type": "markdown",
   "id": "bb7dace9",
   "metadata": {},
   "source": [
    "### Step 3: Run chatbot loop"
   ]
  },
  {
   "cell_type": "code",
   "execution_count": 4,
   "id": "5699bc62",
   "metadata": {},
   "outputs": [
    {
     "name": "stdout",
     "output_type": "stream",
     "text": [
      "ChatBot: Hello! How can I help you today?\n",
      "ChatBot: Interesting! Tell me more.\n",
      "ChatBot: Interesting! Tell me more.\n",
      "ChatBot: Interesting! Tell me more.\n",
      "ChatBot: Interesting! Tell me more.\n",
      "ChatBot: I'm doing great! Thanks for asking.\n",
      "ChatBot: You said earlier: 'how are you'\n",
      "ChatBot: Interesting! Tell me more.\n",
      "ChatBot: Interesting! Tell me more.\n",
      "ChatBot: I'm ChatBot, your virtual assistant.\n",
      "ChatBot: I'm ChatBot, your virtual assistant.\n",
      "ChatBot: Interesting! Tell me more.\n"
     ]
    }
   ],
   "source": [
    "print(\"ChatBot: Hello! How can I help you today?\")\n",
    "while True:\n",
    "    user_input = input(\"You: \")\n",
    "    if user_input.lower() in [\"exit\", \"quit\", \"bye\"]:\n",
    "        print(\"ChatBot:\", chatbot_response(user_input, context_memory))\n",
    "        break\n",
    "    response = chatbot_response(user_input, context_memory)\n",
    "    print(\"ChatBot:\", response)"
   ]
  },
  {
   "cell_type": "code",
   "execution_count": null,
   "id": "d3cd1497",
   "metadata": {},
   "outputs": [],
   "source": []
  },
  {
   "cell_type": "code",
   "execution_count": null,
   "id": "c8d76ef4",
   "metadata": {},
   "outputs": [],
   "source": []
  }
 ],
 "metadata": {
  "kernelspec": {
   "display_name": "Python 3",
   "language": "python",
   "name": "python3"
  },
  "language_info": {
   "codemirror_mode": {
    "name": "ipython",
    "version": 3
   },
   "file_extension": ".py",
   "mimetype": "text/x-python",
   "name": "python",
   "nbconvert_exporter": "python",
   "pygments_lexer": "ipython3",
   "version": "3.12.0"
  }
 },
 "nbformat": 4,
 "nbformat_minor": 5
}
